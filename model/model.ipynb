{
 "cells": [
  {
   "cell_type": "markdown",
   "metadata": {},
   "source": [
    "## Import libraries\n"
   ]
  },
  {
   "cell_type": "code",
   "execution_count": 1,
   "metadata": {},
   "outputs": [
    {
     "name": "stderr",
     "output_type": "stream",
     "text": [
      "/opt/homebrew/Caskroom/miniforge/base/envs/PBL/lib/python3.12/site-packages/tqdm/auto.py:21: TqdmWarning: IProgress not found. Please update jupyter and ipywidgets. See https://ipywidgets.readthedocs.io/en/stable/user_install.html\n",
      "  from .autonotebook import tqdm as notebook_tqdm\n"
     ]
    }
   ],
   "source": [
    "import os\n",
    "import torch\n",
    "import numpy as np\n",
    "import torch.nn as nn\n",
    "import torch.optim as optim\n",
    "import torchvision.transforms as transforms\n",
    "from tqdm import tqdm\n",
    "from matplotlib import pyplot as plt\n",
    "from torch.utils.data import DataLoader, sampler\n",
    "from torchvision.datasets import ImageFolder\n",
    "from transformers import ViTForImageClassification, ViTImageProcessor"
   ]
  },
  {
   "cell_type": "code",
   "execution_count": 2,
   "metadata": {},
   "outputs": [],
   "source": [
    "device = torch.device(\"cuda\" if torch.cuda.is_available() else \"cpu\")"
   ]
  },
  {
   "cell_type": "markdown",
   "metadata": {},
   "source": [
    "## Dataset\n"
   ]
  },
  {
   "cell_type": "code",
   "execution_count": 3,
   "metadata": {},
   "outputs": [],
   "source": [
    "MODEL_NAME = \"google/vit-base-patch16-224\"\n",
    "processor = ViTImageProcessor.from_pretrained(MODEL_NAME, local_files_only=True)"
   ]
  },
  {
   "cell_type": "code",
   "execution_count": 4,
   "metadata": {},
   "outputs": [],
   "source": [
    "def load_dataset(\n",
    "    root: str,\n",
    "    test: bool,\n",
    "    batch_size: int = 16,\n",
    "    shuffle: bool = True,\n",
    "    valid_size: float = 0.4,\n",
    "    num_workers: int = 4,\n",
    "):\n",
    "    if not test:\n",
    "        data_augmentation = transforms.Compose(\n",
    "            [\n",
    "                transforms.RandomRotation(degrees=15),\n",
    "                transforms.RandomHorizontalFlip(p=0.5),\n",
    "                transforms.RandomResizedCrop(size=(224, 224), antialias=True),\n",
    "                transforms.ColorJitter(\n",
    "                    brightness=0.1, contrast=0.1, saturation=0.1, hue=0.1\n",
    "                ),\n",
    "            ]\n",
    "        )\n",
    "        transform = transforms.Compose(\n",
    "            [\n",
    "                data_augmentation,\n",
    "                transforms.ToTensor(),\n",
    "                transforms.Normalize(\n",
    "                    mean=processor.image_mean, std=processor.image_std\n",
    "                ),\n",
    "            ]\n",
    "        )\n",
    "        dataset = ImageFolder(os.path.join(root, \"train\"), transform=transform)\n",
    "        return DataLoader(\n",
    "            dataset=dataset,\n",
    "            batch_size=batch_size,\n",
    "            shuffle=shuffle,\n",
    "            num_workers=num_workers,\n",
    "        )\n",
    "\n",
    "    transform = transforms.Compose(\n",
    "        [\n",
    "            transforms.Resize(size=(224, 224)),\n",
    "            transforms.ToTensor(),\n",
    "            transforms.Normalize(mean=processor.image_mean, std=processor.image_std),\n",
    "        ]\n",
    "    )\n",
    "    dataset = ImageFolder(os.path.join(root, \"test\"), transform=transform)\n",
    "    num_test = len(dataset)\n",
    "    indices = list(range(num_test))\n",
    "    split = int(np.floor(valid_size * num_test))\n",
    "\n",
    "    if shuffle:\n",
    "        np.random.seed(42)\n",
    "        np.random.shuffle(indices)\n",
    "\n",
    "    test_idx, valid_idx = indices[split:], indices[:split]\n",
    "    test_sampler = sampler.SubsetRandomSampler(test_idx)\n",
    "    valid_sampler = sampler.SubsetRandomSampler(valid_idx)\n",
    "\n",
    "    test_loader = DataLoader(\n",
    "        dataset=dataset,\n",
    "        batch_size=batch_size,\n",
    "        sampler=test_sampler,\n",
    "        num_workers=num_workers,\n",
    "    )\n",
    "    valid_loader = DataLoader(\n",
    "        dataset=dataset,\n",
    "        batch_size=batch_size,\n",
    "        sampler=valid_sampler,\n",
    "        num_workers=num_workers,\n",
    "    )\n",
    "    return test_loader, valid_loader"
   ]
  },
  {
   "cell_type": "markdown",
   "metadata": {},
   "source": [
    "## Model\n"
   ]
  },
  {
   "cell_type": "code",
   "execution_count": 5,
   "metadata": {},
   "outputs": [],
   "source": [
    "def load_model(model_name: str, num_classes: int):\n",
    "    model = ViTForImageClassification.from_pretrained(model_name, local_files_only=True)\n",
    "    model.classifier = nn.Sequential(\n",
    "        nn.Linear(in_features=768, out_features=512),\n",
    "        nn.ReLU(),\n",
    "        nn.Dropout(p=0.2),\n",
    "        nn.Linear(in_features=512, out_features=256),\n",
    "        nn.ReLU(),\n",
    "        nn.Dropout(p=0.2),\n",
    "        nn.Linear(in_features=256, out_features=num_classes),\n",
    "    )\n",
    "    return model"
   ]
  },
  {
   "cell_type": "markdown",
   "metadata": {},
   "source": [
    "## Train\n"
   ]
  },
  {
   "cell_type": "code",
   "execution_count": 6,
   "metadata": {},
   "outputs": [],
   "source": [
    "train_loader = load_dataset(root=\"\", test=False, batch_size=32)\n",
    "test_loader, valid_loader = load_dataset(\n",
    "    root=\"\", test=True, batch_size=32, valid_size=0.3\n",
    ")"
   ]
  },
  {
   "cell_type": "code",
   "execution_count": 7,
   "metadata": {},
   "outputs": [
    {
     "data": {
      "text/plain": [
       "ViTForImageClassification(\n",
       "  (vit): ViTModel(\n",
       "    (embeddings): ViTEmbeddings(\n",
       "      (patch_embeddings): ViTPatchEmbeddings(\n",
       "        (projection): Conv2d(3, 768, kernel_size=(16, 16), stride=(16, 16))\n",
       "      )\n",
       "      (dropout): Dropout(p=0.0, inplace=False)\n",
       "    )\n",
       "    (encoder): ViTEncoder(\n",
       "      (layer): ModuleList(\n",
       "        (0-11): 12 x ViTLayer(\n",
       "          (attention): ViTSdpaAttention(\n",
       "            (attention): ViTSdpaSelfAttention(\n",
       "              (query): Linear(in_features=768, out_features=768, bias=True)\n",
       "              (key): Linear(in_features=768, out_features=768, bias=True)\n",
       "              (value): Linear(in_features=768, out_features=768, bias=True)\n",
       "              (dropout): Dropout(p=0.0, inplace=False)\n",
       "            )\n",
       "            (output): ViTSelfOutput(\n",
       "              (dense): Linear(in_features=768, out_features=768, bias=True)\n",
       "              (dropout): Dropout(p=0.0, inplace=False)\n",
       "            )\n",
       "          )\n",
       "          (intermediate): ViTIntermediate(\n",
       "            (dense): Linear(in_features=768, out_features=3072, bias=True)\n",
       "            (intermediate_act_fn): GELUActivation()\n",
       "          )\n",
       "          (output): ViTOutput(\n",
       "            (dense): Linear(in_features=3072, out_features=768, bias=True)\n",
       "            (dropout): Dropout(p=0.0, inplace=False)\n",
       "          )\n",
       "          (layernorm_before): LayerNorm((768,), eps=1e-12, elementwise_affine=True)\n",
       "          (layernorm_after): LayerNorm((768,), eps=1e-12, elementwise_affine=True)\n",
       "        )\n",
       "      )\n",
       "    )\n",
       "    (layernorm): LayerNorm((768,), eps=1e-12, elementwise_affine=True)\n",
       "  )\n",
       "  (classifier): Sequential(\n",
       "    (0): Linear(in_features=768, out_features=512, bias=True)\n",
       "    (1): ReLU()\n",
       "    (2): Dropout(p=0.2, inplace=False)\n",
       "    (3): Linear(in_features=512, out_features=256, bias=True)\n",
       "    (4): ReLU()\n",
       "    (5): Dropout(p=0.2, inplace=False)\n",
       "    (6): Linear(in_features=256, out_features=10, bias=True)\n",
       "  )\n",
       ")"
      ]
     },
     "execution_count": 7,
     "metadata": {},
     "output_type": "execute_result"
    }
   ],
   "source": [
    "model = load_model(model_name=MODEL_NAME, num_classes=10)\n",
    "model.to(device)"
   ]
  },
  {
   "cell_type": "code",
   "execution_count": 8,
   "metadata": {},
   "outputs": [],
   "source": [
    "criterion = nn.CrossEntropyLoss()\n",
    "optimizer = optim.Adam(model.parameters(), lr=1e-4)\n",
    "scheduler = optim.lr_scheduler.StepLR(optimizer, step_size=5, gamma=0.1)"
   ]
  },
  {
   "cell_type": "code",
   "execution_count": null,
   "metadata": {},
   "outputs": [
    {
     "name": "stderr",
     "output_type": "stream",
     "text": [
      "Training: 100%|\u001b[32m██████████\u001b[0m| 13/13 [01:41<00:00,  7.82s/it]\n",
      "Validation: 100%|\u001b[33m██████████\u001b[0m| 4/4 [00:29<00:00,  7.45s/it]\n"
     ]
    },
    {
     "name": "stdout",
     "output_type": "stream",
     "text": [
      "- Epoch [ 1/20], Loss: 26.6443, Accuracy: 68.33%\n"
     ]
    },
    {
     "name": "stderr",
     "output_type": "stream",
     "text": [
      "Training: 100%|\u001b[32m██████████\u001b[0m| 13/13 [01:55<00:00,  8.86s/it]\n",
      "Validation: 100%|\u001b[33m██████████\u001b[0m| 4/4 [00:31<00:00,  7.84s/it]\n"
     ]
    },
    {
     "name": "stdout",
     "output_type": "stream",
     "text": [
      "- Epoch [ 2/20], Loss: 17.6692, Accuracy: 84.17%\n"
     ]
    },
    {
     "name": "stderr",
     "output_type": "stream",
     "text": [
      "Training: 100%|\u001b[32m██████████\u001b[0m| 13/13 [01:55<00:00,  8.88s/it]\n",
      "Validation: 100%|\u001b[33m██████████\u001b[0m| 4/4 [00:31<00:00,  7.75s/it]\n"
     ]
    },
    {
     "name": "stdout",
     "output_type": "stream",
     "text": [
      "- Epoch [ 3/20], Loss: 9.4656, Accuracy: 90.83%\n"
     ]
    },
    {
     "name": "stderr",
     "output_type": "stream",
     "text": [
      "Training: 100%|\u001b[32m██████████\u001b[0m| 13/13 [01:58<00:00,  9.14s/it]\n",
      "Validation: 100%|\u001b[33m██████████\u001b[0m| 4/4 [00:30<00:00,  7.74s/it]\n"
     ]
    },
    {
     "name": "stdout",
     "output_type": "stream",
     "text": [
      "- Epoch [ 4/20], Loss: 5.3433, Accuracy: 97.50%\n"
     ]
    },
    {
     "name": "stderr",
     "output_type": "stream",
     "text": [
      "Training: 100%|\u001b[32m██████████\u001b[0m| 13/13 [02:01<00:00,  9.32s/it]\n",
      "Validation: 100%|\u001b[33m██████████\u001b[0m| 4/4 [00:30<00:00,  7.68s/it]\n"
     ]
    },
    {
     "name": "stdout",
     "output_type": "stream",
     "text": [
      "- Epoch [ 5/20], Loss: 2.3774, Accuracy: 97.50%\n"
     ]
    },
    {
     "name": "stderr",
     "output_type": "stream",
     "text": [
      "Training: 100%|\u001b[32m██████████\u001b[0m| 13/13 [01:57<00:00,  9.00s/it]\n",
      "Validation: 100%|\u001b[33m██████████\u001b[0m| 4/4 [00:31<00:00,  7.84s/it]\n"
     ]
    },
    {
     "name": "stdout",
     "output_type": "stream",
     "text": [
      "- Epoch [ 6/20], Loss: 1.5619, Accuracy: 97.50%\n"
     ]
    },
    {
     "name": "stderr",
     "output_type": "stream",
     "text": [
      "Training: 100%|\u001b[32m██████████\u001b[0m| 13/13 [02:01<00:00,  9.35s/it]\n",
      "Validation: 100%|\u001b[33m██████████\u001b[0m| 4/4 [00:32<00:00,  8.12s/it]\n"
     ]
    },
    {
     "name": "stdout",
     "output_type": "stream",
     "text": [
      "- Epoch [ 7/20], Loss: 1.4391, Accuracy: 99.17%\n"
     ]
    },
    {
     "name": "stderr",
     "output_type": "stream",
     "text": [
      "Training: 100%|\u001b[32m██████████\u001b[0m| 13/13 [02:08<00:00,  9.90s/it]\n",
      "Validation: 100%|\u001b[33m██████████\u001b[0m| 4/4 [00:32<00:00,  8.24s/it]\n"
     ]
    },
    {
     "name": "stdout",
     "output_type": "stream",
     "text": [
      "- Epoch [ 8/20], Loss: 1.2734, Accuracy: 99.17%\n"
     ]
    },
    {
     "name": "stderr",
     "output_type": "stream",
     "text": [
      "Training: 100%|\u001b[32m██████████\u001b[0m| 13/13 [02:13<00:00, 10.29s/it]\n",
      "Validation: 100%|\u001b[33m██████████\u001b[0m| 4/4 [00:32<00:00,  8.05s/it]\n"
     ]
    },
    {
     "name": "stdout",
     "output_type": "stream",
     "text": [
      "- Epoch [ 9/20], Loss: 1.3822, Accuracy: 99.17%\n"
     ]
    },
    {
     "name": "stderr",
     "output_type": "stream",
     "text": [
      "Training: 100%|\u001b[32m██████████\u001b[0m| 13/13 [01:57<00:00,  9.03s/it]\n",
      "Validation: 100%|\u001b[33m██████████\u001b[0m| 4/4 [00:32<00:00,  8.18s/it]\n"
     ]
    },
    {
     "name": "stdout",
     "output_type": "stream",
     "text": [
      "- Epoch [10/20], Loss: 0.9146, Accuracy: 99.17%\n"
     ]
    },
    {
     "name": "stderr",
     "output_type": "stream",
     "text": [
      "Training: 100%|\u001b[32m██████████\u001b[0m| 13/13 [01:54<00:00,  8.80s/it]\n",
      "Validation: 100%|\u001b[33m██████████\u001b[0m| 4/4 [00:32<00:00,  8.02s/it]\n"
     ]
    },
    {
     "name": "stdout",
     "output_type": "stream",
     "text": [
      "- Epoch [11/20], Loss: 0.8872, Accuracy: 99.17%\n"
     ]
    },
    {
     "name": "stderr",
     "output_type": "stream",
     "text": [
      "Training: 100%|\u001b[32m██████████\u001b[0m| 13/13 [01:51<00:00,  8.61s/it]\n",
      "Validation: 100%|\u001b[33m██████████\u001b[0m| 4/4 [00:31<00:00,  7.97s/it]\n"
     ]
    },
    {
     "name": "stdout",
     "output_type": "stream",
     "text": [
      "- Epoch [12/20], Loss: 0.8780, Accuracy: 99.17%\n"
     ]
    },
    {
     "name": "stderr",
     "output_type": "stream",
     "text": [
      "Training: 100%|\u001b[32m██████████\u001b[0m| 13/13 [01:58<00:00,  9.13s/it]\n",
      "Validation: 100%|\u001b[33m██████████\u001b[0m| 4/4 [00:32<00:00,  8.24s/it]\n"
     ]
    },
    {
     "name": "stdout",
     "output_type": "stream",
     "text": [
      "- Epoch [13/20], Loss: 0.9954, Accuracy: 99.17%\n"
     ]
    },
    {
     "name": "stderr",
     "output_type": "stream",
     "text": [
      "Training: 100%|\u001b[32m██████████\u001b[0m| 13/13 [01:52<00:00,  8.63s/it]\n",
      "Validation: 100%|\u001b[33m██████████\u001b[0m| 4/4 [00:31<00:00,  7.92s/it]\n"
     ]
    },
    {
     "name": "stdout",
     "output_type": "stream",
     "text": [
      "- Epoch [14/20], Loss: 0.9418, Accuracy: 99.17%\n"
     ]
    },
    {
     "name": "stderr",
     "output_type": "stream",
     "text": [
      "Training: 100%|\u001b[32m██████████\u001b[0m| 13/13 [01:58<00:00,  9.09s/it]\n",
      "Validation: 100%|\u001b[33m██████████\u001b[0m| 4/4 [00:31<00:00,  7.92s/it]\n"
     ]
    },
    {
     "name": "stdout",
     "output_type": "stream",
     "text": [
      "- Epoch [15/20], Loss: 0.9836, Accuracy: 99.17%\n"
     ]
    },
    {
     "name": "stderr",
     "output_type": "stream",
     "text": [
      "Training: 100%|\u001b[32m██████████\u001b[0m| 13/13 [01:47<00:00,  8.30s/it]\n",
      "Validation: 100%|\u001b[33m██████████\u001b[0m| 4/4 [00:31<00:00,  7.80s/it]\n"
     ]
    },
    {
     "name": "stdout",
     "output_type": "stream",
     "text": [
      "- Epoch [16/20], Loss: 0.7780, Accuracy: 99.17%\n"
     ]
    },
    {
     "name": "stderr",
     "output_type": "stream",
     "text": [
      "Training: 100%|\u001b[32m██████████\u001b[0m| 13/13 [01:47<00:00,  8.24s/it]\n",
      "Validation: 100%|\u001b[33m██████████\u001b[0m| 4/4 [00:31<00:00,  7.81s/it]\n"
     ]
    },
    {
     "name": "stdout",
     "output_type": "stream",
     "text": [
      "- Epoch [17/20], Loss: 0.8154, Accuracy: 99.17%\n"
     ]
    },
    {
     "name": "stderr",
     "output_type": "stream",
     "text": [
      "Training: 100%|\u001b[32m██████████\u001b[0m| 13/13 [01:48<00:00,  8.31s/it]\n",
      "Validation: 100%|\u001b[33m██████████\u001b[0m| 4/4 [00:31<00:00,  7.87s/it]\n"
     ]
    },
    {
     "name": "stdout",
     "output_type": "stream",
     "text": [
      "- Epoch [18/20], Loss: 1.0338, Accuracy: 99.17%\n"
     ]
    },
    {
     "name": "stderr",
     "output_type": "stream",
     "text": [
      "Training: 100%|\u001b[32m██████████\u001b[0m| 13/13 [01:47<00:00,  8.24s/it]\n",
      "Validation: 100%|\u001b[33m██████████\u001b[0m| 4/4 [00:31<00:00,  7.79s/it]\n"
     ]
    },
    {
     "name": "stdout",
     "output_type": "stream",
     "text": [
      "- Epoch [19/20], Loss: 1.1306, Accuracy: 99.17%\n"
     ]
    },
    {
     "name": "stderr",
     "output_type": "stream",
     "text": [
      "Training: 100%|\u001b[32m██████████\u001b[0m| 13/13 [01:46<00:00,  8.22s/it]\n",
      "Validation: 100%|\u001b[33m██████████\u001b[0m| 4/4 [00:31<00:00,  7.80s/it]\n"
     ]
    },
    {
     "name": "stdout",
     "output_type": "stream",
     "text": [
      "- Epoch [20/20], Loss: 0.9707, Accuracy: 99.17%\n"
     ]
    }
   ],
   "source": [
    "NUM_EPOCHS = 15\n",
    "losses, accuracies = [], []\n",
    "for epoch in range(NUM_EPOCHS):\n",
    "    # Training\n",
    "    model.train()\n",
    "    running_loss = 0.0\n",
    "    for images, labels in tqdm(train_loader, desc=\"Training\", colour=\"green\"):\n",
    "        images, labels = images.to(device), labels.to(device)\n",
    "        optimizer.zero_grad()\n",
    "        outputs = model(images)\n",
    "        loss = criterion(outputs.logits, labels)\n",
    "        loss.backward()\n",
    "        optimizer.step()\n",
    "        running_loss += loss.item()\n",
    "\n",
    "    losses.append(running_loss)\n",
    "\n",
    "    # Validation\n",
    "    model.eval()\n",
    "    correct, total = 0, 0\n",
    "    with torch.no_grad():\n",
    "        for images, labels in tqdm(valid_loader, desc=\"Validation\", colour=\"yellow\"):\n",
    "            images, labels = images.to(device), labels.to(device)\n",
    "            outputs = model(images).logits\n",
    "            _, predicted = torch.max(outputs, 1)\n",
    "            total += labels.size(0)\n",
    "            correct += (predicted == labels).sum().item()\n",
    "\n",
    "    accuracies.append(100 * correct / total)\n",
    "    print(\n",
    "        f\"- Epoch [{epoch + 1:2}/{NUM_EPOCHS}], Loss: {losses[-1]:.4f}, Accuracy: {accuracies[-1]:.2f}%\"\n",
    "    )\n",
    "    scheduler.step()\n",
    "\n",
    "    # Save checkpoint\n",
    "    if (epoch + 1) % 5 == 0:\n",
    "        torch.save(\n",
    "            {\n",
    "                \"model_state_dict\": model.state_dict(),\n",
    "            },\n",
    "            f\"checkpoint_{epoch + 1}.pt\",\n",
    "        )"
   ]
  },
  {
   "cell_type": "code",
   "execution_count": 10,
   "metadata": {},
   "outputs": [
    {
     "data": {
      "image/png": "[encoded data removed]",
      "text/plain": [
       "<Figure size 1200x500 with 2 Axes>"
      ]
     },
     "metadata": {},
     "output_type": "display_data"
    }
   ],
   "source": [
    "plt.figure(figsize=(12, 5))\n",
    "\n",
    "plt.subplot(1, 2, 1)\n",
    "plt.plot(losses)\n",
    "plt.xticks(np.arange(len(losses)))\n",
    "plt.title(\"Training Loss\")\n",
    "plt.xlabel(\"Epoch\")\n",
    "plt.ylabel(\"Loss\")\n",
    "\n",
    "plt.subplot(1, 2, 2)\n",
    "plt.plot(accuracies)\n",
    "plt.xticks(np.arange(len(accuracies)))\n",
    "plt.title(\"Validation Accuracy\")\n",
    "plt.xlabel(\"Epoch\")\n",
    "plt.ylabel(\"Accuracy (%)\")\n",
    "\n",
    "plt.show()"
   ]
  },
  {
   "cell_type": "markdown",
   "metadata": {},
   "source": [
    "## Test model\n"
   ]
  },
  {
   "cell_type": "code",
   "execution_count": 11,
   "metadata": {},
   "outputs": [],
   "source": [
    "def test_checkpoint(path: str, loader: DataLoader):\n",
    "    checkpoint = torch.load(f=path, map_location=device, weights_only=True)\n",
    "    model = load_model(model_name=MODEL_NAME, num_classes=10)\n",
    "    model.load_state_dict(checkpoint[\"model_state_dict\"])\n",
    "    model.to(device)\n",
    "\n",
    "    model.eval()\n",
    "    _correct, _total = 0, 0\n",
    "    with torch.no_grad():\n",
    "        for images, labels in tqdm(loader, desc=\"Testing\", colour=\"yellow\"):\n",
    "            images, labels = images.to(device), labels.to(device)\n",
    "            outputs = model(images).logits\n",
    "            _, predicted = torch.max(outputs, 1)\n",
    "            _total += labels.size(0)\n",
    "            _correct += (predicted == labels).sum().item()\n",
    "\n",
    "    print(f\"Test Accuracy: {100 * _correct / _total:.2f}%\")"
   ]
  },
  {
   "cell_type": "code",
   "execution_count": 12,
   "metadata": {},
   "outputs": [
    {
     "name": "stderr",
     "output_type": "stream",
     "text": [
      "Testing: 100%|\u001b[33m██████████\u001b[0m| 9/9 [00:41<00:00,  4.65s/it]"
     ]
    },
    {
     "name": "stdout",
     "output_type": "stream",
     "text": [
      "Test Accuracy: 95.71%\n"
     ]
    },
    {
     "name": "stderr",
     "output_type": "stream",
     "text": [
      "\n"
     ]
    }
   ],
   "source": [
    "test_checkpoint(\"checkpoint_5.pt\", test_loader)"
   ]
  },
  {
   "cell_type": "code",
   "execution_count": 13,
   "metadata": {},
   "outputs": [
    {
     "name": "stderr",
     "output_type": "stream",
     "text": [
      "Testing: 100%|\u001b[33m██████████\u001b[0m| 9/9 [00:41<00:00,  4.56s/it]"
     ]
    },
    {
     "name": "stdout",
     "output_type": "stream",
     "text": [
      "Test Accuracy: 98.21%\n"
     ]
    },
    {
     "name": "stderr",
     "output_type": "stream",
     "text": [
      "\n"
     ]
    }
   ],
   "source": [
    "test_checkpoint(\"checkpoint_10.pt\", test_loader)"
   ]
  },
  {
   "cell_type": "code",
   "execution_count": 14,
   "metadata": {},
   "outputs": [
    {
     "name": "stderr",
     "output_type": "stream",
     "text": [
      "Testing: 100%|\u001b[33m██████████\u001b[0m| 9/9 [00:40<00:00,  4.52s/it]"
     ]
    },
    {
     "name": "stdout",
     "output_type": "stream",
     "text": [
      "Test Accuracy: 98.21%\n"
     ]
    },
    {
     "name": "stderr",
     "output_type": "stream",
     "text": [
      "\n"
     ]
    }
   ],
   "source": [
    "test_checkpoint(\"checkpoint_15.pt\", test_loader)"
   ]
  }
 ],
 "metadata": {
  "kernelspec": {
   "display_name": "PBL",
   "language": "python",
   "name": "python3"
  },
  "language_info": {
   "codemirror_mode": {
    "name": "ipython",
    "version": 3
   },
   "file_extension": ".py",
   "mimetype": "text/x-python",
   "name": "python",
   "nbconvert_exporter": "python",
   "pygments_lexer": "ipython3",
   "version": "3.12.7"
  }
 },
 "nbformat": 4,
 "nbformat_minor": 2
}
