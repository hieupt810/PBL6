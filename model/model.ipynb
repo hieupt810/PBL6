{
 "cells": [
  {
   "cell_type": "markdown",
   "metadata": {},
   "source": [
    "## Import libraries\n"
   ]
  },
  {
   "cell_type": "code",
   "execution_count": null,
   "metadata": {},
   "outputs": [],
   "source": [
    "import os\n",
    "import torch\n",
    "import numpy as np\n",
    "import torch.nn as nn\n",
    "import torch.optim as optim\n",
    "import torchvision.transforms as transforms\n",
    "from matplotlib import pyplot as plt\n",
    "from torch.utils.data import DataLoader, sampler\n",
    "from torchvision.datasets import ImageFolder\n",
    "from transformers import ViTImageProcessor, ViTForImageClassification"
   ]
  },
  {
   "cell_type": "code",
   "execution_count": null,
   "metadata": {},
   "outputs": [],
   "source": [
    "device = torch.device(\"cuda\")"
   ]
  },
  {
   "cell_type": "markdown",
   "metadata": {},
   "source": [
    "## Prepare\n"
   ]
  },
  {
   "cell_type": "code",
   "execution_count": null,
   "metadata": {},
   "outputs": [],
   "source": [
    "def load_model(num_classes: int, model_name: str = \"google/vit-base-patch16-224\"):\n",
    "    model = ViTForImageClassification.from_pretrained(model_name)\n",
    "    model.classifier = nn.Sequential(\n",
    "        nn.Linear(in_features=768, out_features=512),\n",
    "        nn.ReLU(),\n",
    "        nn.Dropout(p=0.2),\n",
    "        nn.Linear(in_features=512, out_features=256),\n",
    "        nn.ReLU(),\n",
    "        nn.Dropout(p=0.2),\n",
    "        nn.Linear(in_features=256, out_features=num_classes, bias=False),\n",
    "    )\n",
    "    return model"
   ]
  },
  {
   "cell_type": "code",
   "execution_count": null,
   "metadata": {},
   "outputs": [],
   "source": [
    "def load_train_dataset(\n",
    "    root: str, model_name: str = \"google/vit-base-patch16-224\", batch_size: int = 32\n",
    ") -> DataLoader:\n",
    "    processor = ViTImageProcessor.from_pretrained(model_name)\n",
    "    data_augmentation = transforms.Compose(\n",
    "        [\n",
    "            transforms.RandomRotation(degrees=15),\n",
    "            transforms.RandomHorizontalFlip(p=0.5),\n",
    "            transforms.RandomResizedCrop(size=(224, 224), antialias=True),\n",
    "            transforms.ColorJitter(\n",
    "                brightness=0.1, contrast=0.1, saturation=0.1, hue=0.1\n",
    "            ),\n",
    "        ]\n",
    "    )\n",
    "    transform = transforms.Compose(\n",
    "        [\n",
    "            data_augmentation,\n",
    "            transforms.ToTensor(),\n",
    "            transforms.Normalize(mean=processor.image_mean, std=processor.image_std),\n",
    "        ]\n",
    "    )\n",
    "    dataset = ImageFolder(os.path.join(root, \"train\"), transform=transform)\n",
    "    return DataLoader(dataset=dataset, batch_size=batch_size, shuffle=False)"
   ]
  },
  {
   "cell_type": "code",
   "execution_count": null,
   "metadata": {},
   "outputs": [],
   "source": [
    "def load_test_dataset(\n",
    "    root: str,\n",
    "    model_name: str = \"google/vit-base-patch16-224\",\n",
    "    batch_size: int = 32,\n",
    "    valid_size: float = 0.4,\n",
    "):\n",
    "    processor = ViTImageProcessor.from_pretrained(model_name)\n",
    "    transform = transforms.Compose(\n",
    "        [\n",
    "            transforms.Resize(size=(224, 224)),\n",
    "            transforms.ToTensor(),\n",
    "            transforms.Normalize(mean=processor.image_mean, std=processor.image_std),\n",
    "        ]\n",
    "    )\n",
    "    dataset = ImageFolder(os.path.join(root, \"test\"), transform=transform)\n",
    "    num_test = len(dataset)\n",
    "    indices = list(range(num_test))\n",
    "    split = int(np.floor(valid_size * num_test))\n",
    "\n",
    "    np.random.seed(42)\n",
    "    np.random.shuffle(indices)\n",
    "    test_idx, valid_idx = indices[split:], indices[:split]\n",
    "    test_sampler = sampler.SubsetRandomSampler(test_idx)\n",
    "    valid_sampler = sampler.SubsetRandomSampler(valid_idx)\n",
    "\n",
    "    test_loader = DataLoader(\n",
    "        dataset=dataset, batch_size=batch_size, sampler=test_sampler\n",
    "    )\n",
    "    valid_loader = DataLoader(\n",
    "        dataset=dataset, batch_size=batch_size, sampler=valid_sampler\n",
    "    )\n",
    "    return test_loader, valid_loader"
   ]
  },
  {
   "cell_type": "markdown",
   "metadata": {},
   "source": [
    "## Train\n"
   ]
  },
  {
   "cell_type": "code",
   "execution_count": null,
   "metadata": {},
   "outputs": [],
   "source": [
    "train_loader = load_train_dataset(root=\"/kaggle/input/pbl6-dataset\", batch_size=16)\n",
    "test_loader, valid_loader = load_test_dataset(\n",
    "    root=\"/kaggle/input/pbl6-dataset\", batch_size=16, valid_size=0.4\n",
    ")\n",
    "model = load_model(num_classes=10).to(device)"
   ]
  },
  {
   "cell_type": "code",
   "execution_count": null,
   "metadata": {},
   "outputs": [],
   "source": [
    "criterion = nn.CrossEntropyLoss()\n",
    "optimizer = optim.Adam(model.parameters(), lr=1e-4)\n",
    "scheduler = optim.lr_scheduler.StepLR(optimizer, step_size=5, gamma=0.1)"
   ]
  },
  {
   "cell_type": "code",
   "execution_count": null,
   "metadata": {},
   "outputs": [],
   "source": [
    "NUM_EPOCHS = 20\n",
    "losses, accuracies = [], []\n",
    "for epoch in range(NUM_EPOCHS):\n",
    "    model.train()\n",
    "    running_loss = 0.0\n",
    "    for images, labels in train_loader:\n",
    "        images, labels = images.to(device), labels.to(device)\n",
    "        optimizer.zero_grad()\n",
    "        outputs = model(images)\n",
    "        loss = criterion(outputs.logits, labels)\n",
    "        loss.backward()\n",
    "        optimizer.step()\n",
    "        running_loss += loss.item()\n",
    "\n",
    "    losses.append(running_loss)\n",
    "    model.eval()\n",
    "    correct, total = 0, 0\n",
    "    with torch.no_grad():\n",
    "        for images, labels in valid_loader:\n",
    "            images, labels = images.to(device), labels.to(device)\n",
    "            outputs = model(images).logits\n",
    "            _, predicted = torch.max(outputs, 1)\n",
    "            total += labels.size(0)\n",
    "            correct += (predicted == labels).sum().item()\n",
    "\n",
    "    accuracies.append(100 * correct / total)\n",
    "    print(\n",
    "        f\"Epoch [{epoch + 1}/{NUM_EPOCHS}], Loss: {losses[-1]:.3f}, Accuracy: {accuracies[-1]:.2f}%\"\n",
    "    )\n",
    "    scheduler.step()\n",
    "    if (epoch + 1) % 5 == 0:\n",
    "        torch.save(\n",
    "            {\n",
    "                \"model_state_dict\": model.state_dict(),\n",
    "            },\n",
    "            f\"checkpoint_{epoch + 1}.pt\",\n",
    "        )"
   ]
  },
  {
   "cell_type": "code",
   "execution_count": null,
   "metadata": {},
   "outputs": [],
   "source": [
    "plt.figure(figsize=(12, 5))\n",
    "\n",
    "plt.subplot(1, 2, 1)\n",
    "plt.plot(losses)\n",
    "plt.title(\"Training Loss\")\n",
    "plt.xlabel(\"Epoch\")\n",
    "plt.ylabel(\"Loss\")\n",
    "\n",
    "plt.subplot(1, 2, 2)\n",
    "plt.plot(accuracies)\n",
    "plt.title(\"Validation Accuracy\")\n",
    "plt.xlabel(\"Epoch\")\n",
    "plt.ylabel(\"Accuracy (%)\")\n",
    "\n",
    "plt.show()"
   ]
  },
  {
   "cell_type": "markdown",
   "metadata": {},
   "source": [
    "## Test\n"
   ]
  },
  {
   "cell_type": "code",
   "execution_count": null,
   "metadata": {},
   "outputs": [],
   "source": [
    "def test_checkpoint(path: str, loader: DataLoader):\n",
    "    checkpoint = torch.load(f=path, map_location=device, weights_only=True)\n",
    "    model = load_model(num_classes=10).to(device)\n",
    "    model.load_state_dict(checkpoint[\"model_state_dict\"])\n",
    "    model.eval()\n",
    "    _correct, _total = 0, 0\n",
    "    with torch.no_grad():\n",
    "        for images, labels in loader:\n",
    "            images, labels = images.to(device), labels.to(device)\n",
    "            outputs = model(images).logits\n",
    "            _, predicted = torch.max(outputs, 1)\n",
    "            _total += labels.size(0)\n",
    "            _correct += (predicted == labels).sum().item()\n",
    "\n",
    "    print(f\"Checkpoint: {path.split(\"_\")[1]}, Accuracy: {100 * _correct / _total:.2f}%\")"
   ]
  }
 ],
 "metadata": {
  "kernelspec": {
   "display_name": "PBL",
   "language": "python",
   "name": "python3"
  },
  "language_info": {
   "codemirror_mode": {
    "name": "ipython",
    "version": 3
   },
   "file_extension": ".py",
   "mimetype": "text/x-python",
   "name": "python",
   "nbconvert_exporter": "python",
   "pygments_lexer": "ipython3",
   "version": "3.12.7"
  }
 },
 "nbformat": 4,
 "nbformat_minor": 2
}
