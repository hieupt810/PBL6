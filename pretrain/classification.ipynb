{
 "cells": [
  {
   "cell_type": "markdown",
   "metadata": {},
   "source": [
    "## Setup\n"
   ]
  },
  {
   "cell_type": "code",
   "execution_count": null,
   "metadata": {},
   "outputs": [],
   "source": [
    "!python --version"
   ]
  },
  {
   "cell_type": "code",
   "execution_count": null,
   "metadata": {},
   "outputs": [],
   "source": [
    "%pip install torch torchvision transformers matplotlib"
   ]
  },
  {
   "cell_type": "code",
   "execution_count": 7,
   "metadata": {},
   "outputs": [],
   "source": [
    "import os\n",
    "import torch\n",
    "import numpy as np\n",
    "import torch.nn as nn\n",
    "\n",
    "from pathlib import Path\n",
    "from torch.utils.data import DataLoader\n",
    "from torchvision import datasets, transforms, models"
   ]
  },
  {
   "cell_type": "markdown",
   "metadata": {},
   "source": [
    "## Load the Vision Transformer Model (ViT)\n"
   ]
  },
  {
   "cell_type": "code",
   "execution_count": null,
   "metadata": {},
   "outputs": [],
   "source": [
    "pretrained_weights = models.ViT_B_16_Weights.DEFAULT\n",
    "pretrained_model = models.vit_b_16(weights=pretrained_weights)"
   ]
  },
  {
   "cell_type": "code",
   "execution_count": null,
   "metadata": {},
   "outputs": [],
   "source": [
    "for param in pretrained_model.parameters():\n",
    "    param.requires_grad = False"
   ]
  },
  {
   "cell_type": "code",
   "execution_count": null,
   "metadata": {},
   "outputs": [],
   "source": [
    "pretrained_transforms = pretrained_weights.transforms()\n",
    "pretrained_transforms"
   ]
  },
  {
   "cell_type": "markdown",
   "metadata": {},
   "source": [
    "## Load Dataset\n"
   ]
  },
  {
   "cell_type": "code",
   "execution_count": null,
   "metadata": {},
   "outputs": [],
   "source": [
    "image_path = Path(\"\")\n",
    "\n",
    "train_dir = image_path.joinpath(\"train\")\n",
    "test_dir = image_path.joinpath(\"test\")\n",
    "validate_dir = image_path.joinpath(\"validate\")"
   ]
  },
  {
   "cell_type": "code",
   "execution_count": null,
   "metadata": {},
   "outputs": [],
   "source": [
    "NUM_WORKERS = os.cpu_count()\n",
    "NUM_WORKERS"
   ]
  },
  {
   "cell_type": "code",
   "execution_count": 9,
   "metadata": {},
   "outputs": [],
   "source": [
    "def create_dataloader(\n",
    "    train_dir: str,\n",
    "    test_dir: str,\n",
    "    transform: transforms.Compose,\n",
    "    batch_size: int = 32,\n",
    "    num_workers: int = NUM_WORKERS,\n",
    "):\n",
    "    train_data = datasets.ImageFolder(train_dir, transform=transform)\n",
    "    test_data = datasets.ImageFolder(test_dir, transform=transform)\n",
    "\n",
    "    train_loader = DataLoader(\n",
    "        dataset=train_data,\n",
    "        batch_size=batch_size,\n",
    "        shuffle=True,\n",
    "        num_workers=num_workers,\n",
    "        pin_memory=True,\n",
    "    )\n",
    "    test_loader = DataLoader(\n",
    "        dataset=test_data,\n",
    "        batch_size=batch_size,\n",
    "        shuffle=False,\n",
    "        num_workers=num_workers,\n",
    "        pin_memory=True,\n",
    "    )\n",
    "\n",
    "    return train_loader, test_loader, train_data.classes"
   ]
  },
  {
   "cell_type": "code",
   "execution_count": null,
   "metadata": {},
   "outputs": [],
   "source": [
    "train_loader, test_loader, classes = create_dataloader(\n",
    "    train_dir, test_dir, pretrained_transforms\n",
    ")"
   ]
  },
  {
   "cell_type": "markdown",
   "metadata": {},
   "source": [
    "## Train Model\n",
    "\n",
    "### Setup Loss Function and Optimizer\n"
   ]
  },
  {
   "cell_type": "code",
   "execution_count": null,
   "metadata": {},
   "outputs": [],
   "source": [
    "HARDWARE = \"cuda\" if torch.cuda.is_available() else \"cpu\"\n",
    "device = torch.device(HARDWARE)"
   ]
  },
  {
   "cell_type": "code",
   "execution_count": null,
   "metadata": {},
   "outputs": [],
   "source": [
    "torch.manual_seed(42)\n",
    "pretrained_model.heads = nn.Linear(\n",
    "    in_features=pretrained_model.heads.in_features, out_features=len(classes)\n",
    ").to(device)"
   ]
  },
  {
   "cell_type": "code",
   "execution_count": 10,
   "metadata": {},
   "outputs": [],
   "source": [
    "def train_step(\n",
    "    model: nn.Module,\n",
    "    loader: DataLoader,\n",
    "    loss_fn: nn.Module,\n",
    "    optimizer: torch.optim.Optimizer,\n",
    "):\n",
    "    model.train()\n",
    "    train_accuracy, train_loss = 0, 0\n",
    "\n",
    "    for _, (X, y) in enumerate(loader):\n",
    "        X, y = X.to(device), y.to(device)\n",
    "        y_pred = model(X)\n",
    "        loss = loss_fn(y_pred, y)\n",
    "        train_loss += loss.item()\n",
    "        optimizer.zero_grad()\n",
    "        loss.backward()\n",
    "        optimizer.step()\n",
    "        y_pred_class = torch.argmax(torch.softmax(y_pred, dim=1), dim=1)\n",
    "        train_accuracy += (y_pred_class == y).sum().item() / len(y_pred)\n",
    "\n",
    "    train_accuracy /= len(loader)\n",
    "    train_loss /= len(loader)\n",
    "\n",
    "    return train_accuracy, train_loss"
   ]
  },
  {
   "cell_type": "code",
   "execution_count": null,
   "metadata": {},
   "outputs": [],
   "source": [
    "def test_step(model: nn.Module, loader: DataLoader, loss_fn: nn.Module):\n",
    "    model.eval()\n",
    "    test_loss_values, test_accuracy_values = 0, 0\n",
    "\n",
    "    with torch.inference_mode():\n",
    "        for _, (X, y) in enumerate(loader):\n",
    "            X, y = X.to(device), y.to(device)\n",
    "            y_test_pred_logits = model(X)\n",
    "\n",
    "            test_loss = loss_fn(y_test_pred_logits, y)\n",
    "            test_loss_values += test_loss.item()\n",
    "\n",
    "            y_test_pred_class = torch.argmax(y_test_pred_logits, dim=1)\n",
    "            test_accuracy_values += (y_test_pred_class == y).sum().item() / len(\n",
    "                y_test_pred_logits\n",
    "            )\n",
    "\n",
    "    test_loss_values /= len(loader)\n",
    "    test_accuracy_values /= len(loader)\n",
    "\n",
    "    return test_loss_values, test_accuracy_values"
   ]
  },
  {
   "cell_type": "code",
   "execution_count": null,
   "metadata": {},
   "outputs": [],
   "source": [
    "def train(\n",
    "    model: nn.Module,\n",
    "    train_loader: DataLoader,\n",
    "    test_loader: DataLoader,\n",
    "    optimizer: torch.optim.Optimizer,\n",
    "    loss_fn: nn.Module = nn.CrossEntropyLoss(),\n",
    "    epochs: int = 100,\n",
    "    early_stopping: int | None = None,\n",
    "):\n",
    "    result = {\n",
    "        \"train_accuracy\": [],\n",
    "        \"train_loss\": [],\n",
    "        \"test_accuracy\": [],\n",
    "        \"test_loss\": [],\n",
    "    }\n",
    "\n",
    "    for epoch in range(epochs):\n",
    "        train_accuracy, train_loss = train_step(model, train_loader, loss_fn, optimizer)\n",
    "        test_loss, test_accuracy = test_step(model, test_loader, loss_fn)\n",
    "\n",
    "        print(\n",
    "            f\"Epoch: {epoch + 1} | \"\n",
    "            f\"train_loss: {train_loss:.4f} | \"\n",
    "            f\"train_accuracy: {train_accuracy:.4f} | \"\n",
    "            f\"test_loss: {test_loss:.4f} | \"\n",
    "            f\"test_accuracy: {test_accuracy:.4f}\"\n",
    "        )\n",
    "\n",
    "        result[\"train_accuracy\"].append(train_accuracy)\n",
    "        result[\"train_loss\"].append(train_loss)\n",
    "        result[\"test_accuracy\"].append(test_accuracy)\n",
    "        result[\"test_loss\"].append(test_loss)\n",
    "\n",
    "        if early_stopping:\n",
    "            if early_stopping.step(test_loss):\n",
    "                print(\"Early stopping triggered at epoch\", epoch + 1)\n",
    "                break\n",
    "\n",
    "    return result"
   ]
  },
  {
   "cell_type": "code",
   "execution_count": null,
   "metadata": {},
   "outputs": [],
   "source": [
    "def save_model(model: nn.Module, target_dir: str, model_name: str):\n",
    "    target_dir_path = Path(target_dir)\n",
    "    target_dir_path.mkdir(parents=True, exist_ok=True)\n",
    "    model_save_path = target_dir_path / f\"{model_name}.pt\"\n",
    "    torch.save(obj=model.state_dict(), f=model_save_path)"
   ]
  },
  {
   "cell_type": "code",
   "execution_count": null,
   "metadata": {},
   "outputs": [],
   "source": [
    "class EarlyStopping(object):\n",
    "    def __init__(self, mode=\"min\", min_delta=0, patience=10, percentage=False) -> None:\n",
    "        self.mode = mode\n",
    "        self.min_delta = min_delta\n",
    "        self.patience = patience\n",
    "        self.best = None\n",
    "        self.num_bad_epochs = 0\n",
    "        self.is_better = None\n",
    "        self._init_is_better(mode, min_delta, percentage)\n",
    "\n",
    "        if patience == 0:\n",
    "            self.is_better = lambda a, b: True\n",
    "            self.step = lambda a: False\n",
    "\n",
    "    def step(self, metrics):\n",
    "        if self.best is None:\n",
    "            self.best = metrics\n",
    "            return False\n",
    "\n",
    "        if np.isnan(metrics):\n",
    "            return True\n",
    "\n",
    "        if self.is_better(metrics, self.best):\n",
    "            self.num_bad_epochs = 0\n",
    "            self.best = metrics\n",
    "            print(\"Improvement!\")\n",
    "        else:\n",
    "            self.num_bad_epochs += 1\n",
    "            print(f\"No improvement, bad epochs counter: {self.num_bad_epochs}\")\n",
    "\n",
    "        if self.num_bad_epochs >= self.patience:\n",
    "            return True\n",
    "\n",
    "        return False\n",
    "\n",
    "    def _init_is_better(self, mode, min_delta, percentage):\n",
    "        if mode not in {\"min\", \"max\"}:\n",
    "            raise ValueError(\"mode \" + mode + \" is unknown!\")\n",
    "        if not percentage:\n",
    "            if mode == \"min\":\n",
    "                self.is_better = lambda a, best: a < best - min_delta\n",
    "            if mode == \"max\":\n",
    "                self.is_better = lambda a, best: a > best + min_delta\n",
    "        else:\n",
    "            if mode == \"min\":\n",
    "                self.is_better = lambda a, best: a < best - (best * min_delta / 100)\n",
    "            if mode == \"max\":\n",
    "                self.is_better = lambda a, best: a > best + (best * min_delta / 100)"
   ]
  },
  {
   "cell_type": "code",
   "execution_count": null,
   "metadata": {},
   "outputs": [],
   "source": [
    "loss_fn = nn.CrossEntropyLoss()\n",
    "optimizer = torch.optim.Adam(params=pretrained_model.parameters(), lr=0.001)"
   ]
  },
  {
   "cell_type": "code",
   "execution_count": null,
   "metadata": {},
   "outputs": [],
   "source": [
    "early_stopping = EarlyStopping(mode=\"min\", patience=10)\n",
    "devices = \"cuda\" if torch.cuda.is_available() else \"cpu\""
   ]
  },
  {
   "cell_type": "code",
   "execution_count": null,
   "metadata": {},
   "outputs": [],
   "source": [
    "model_result = train(\n",
    "    model=pretrained_model,\n",
    "    train_loader=train_loader,\n",
    "    test_loader=test_loader,\n",
    "    optimizer=optimizer,\n",
    "    loss_fn=loss_fn,\n",
    "    epochs=100,\n",
    "    early_stopping=early_stopping,\n",
    ")"
   ]
  },
  {
   "cell_type": "code",
   "execution_count": null,
   "metadata": {},
   "outputs": [],
   "source": [
    "save_model(model=pretrained_model, target_dir=\"models\", model_name=\"classification.pt\")"
   ]
  }
 ],
 "metadata": {
  "kernelspec": {
   "display_name": "AI",
   "language": "python",
   "name": "python3"
  },
  "language_info": {
   "codemirror_mode": {
    "name": "ipython",
    "version": 3
   },
   "file_extension": ".py",
   "mimetype": "text/x-python",
   "name": "python",
   "nbconvert_exporter": "python",
   "pygments_lexer": "ipython3",
   "version": "3.10.12"
  }
 },
 "nbformat": 4,
 "nbformat_minor": 2
}
